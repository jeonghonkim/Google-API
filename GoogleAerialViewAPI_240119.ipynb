{
 "cells": [
  {
   "cell_type": "markdown",
   "metadata": {},
   "source": [
    "#### Create a function for Google Aerial API"
   ]
  },
  {
   "cell_type": "code",
   "execution_count": 1,
   "metadata": {},
   "outputs": [],
   "source": [
    "# import libraries\n",
    "import requests, os, json\n",
    "import pandas as pd"
   ]
  },
  {
   "cell_type": "code",
   "execution_count": 2,
   "metadata": {},
   "outputs": [],
   "source": [
    "# use your google api key\n",
    "MY_API_KEY = \"MY_API_KEY\""
   ]
  },
  {
   "cell_type": "code",
   "execution_count": 4,
   "metadata": {},
   "outputs": [],
   "source": [
    "# Define function url_request\n",
    "def url_request(address):\n",
    "\n",
    "    # set google aerial url\n",
    "    url_aerial = \"https://aerialview.googleapis.com/v1/videos:lookupVideo?\"\n",
    "\n",
    "    # set url for api key\n",
    "    url_api_key = \"key=\"+str(MY_API_KEY)\n",
    "\n",
    "    # set function to convert address\n",
    "    def url_address_converter(x):\n",
    "        x = str(x)\n",
    "        x = x.replace(\" \", \"%20\").replace(\",\", \"%2C\")\n",
    "        return x\n",
    "    url_address = \"&address=\"+url_address_converter(address)\n",
    "\n",
    "    # set url for google aerial api\n",
    "    url_googleapi = url_aerial + url_api_key + url_address\n",
    "    \n",
    "    # request the url\n",
    "    MY_AERIALVIEW = requests.request(\"GET\", url_googleapi).json()\n",
    "\n",
    "    # handle the output\n",
    "    MY_STATUS = pd.json_normalize(MY_AERIALVIEW).iloc[0][0]\n",
    "    if MY_STATUS == 'ACTIVE':\n",
    "        return MY_AERIALVIEW\n",
    "    elif MY_STATUS == 'PROCESSING':\n",
    "        print(\"Video is currently being rendering\")\n",
    "    elif MY_STATUS == 404:\n",
    "        print(\"No rendering under the address. Please request a new video\")\n",
    "    else:\n",
    "        print(\"There is an issue. Please check the below\")\n",
    "        return MY_AERIALVIEW"
   ]
  },
  {
   "cell_type": "code",
   "execution_count": 5,
   "metadata": {},
   "outputs": [
    {
     "data": {
      "text/plain": [
       "{'uris': {'IMAGE': {'landscapeUri': 'https://www.gstatic.com/aerialview/thumbnail/-6520638315362779135.jpg?sqp=CJvBq60GGPQD&rs=AHRQkOdzSiqdEQr1lFHJqFaGnZAR893qmg',\n",
       "   'portraitUri': 'https://www.gstatic.com/aerialview/thumbnail/7314419739919384577.jpg?sqp=CJvBq60GGPQD&rs=AHRQkOeBgezryttnMFazcQ0jI0J7NsCLGg'},\n",
       "  'MP4_HIGH': {'landscapeUri': 'https://rr1---sn-p5qddn7k.googlevideo.com/videoplayback?expire=1705697935&ei=m-CqZeXsI9vip84PsKKLWA&ip=0.0.0.0&id=6d5a0a0000000001&itag=375&source=aerial_view&requiressl=yes&xpc=Eghoy-b0JXoBAQ==&mh=kQ&mm=31&mn=sn-p5qddn7k&ms=au&mv=D&mvi=1&pl=0&susc=av&acao=yes&mime=video/mp4&vprv=1&gir=yes&clen=37379641&dur=40.016&lmt=1685085413889244&mt=1705696973&txp=0011224&sparams=expire,ei,ip,id,itag,source,requiressl,xpc,susc,acao,mime,vprv,gir,clen,dur,lmt&sig=AJfQdSswRAIgbcGtrnc-npLryGRuYbLq8OMXxgFhNwNjpReYu6Jnt7ECICTftmGLQ_aLgw8TGZWADgcZK3yKi-WQ8-RpzOsQONVN&lsparams=mh,mm,mn,ms,mv,mvi,pl&lsig=AAO5W4owRQIgdakY5sIO4iGWG90O89Y9RAiB7AdzUEB80JLiNDZVbJ4CIQCJS9oHhsauH7PKQxAc8DXOUUPKmZb-mujX9gjdbw4eFA==',\n",
       "   'portraitUri': 'https://rr2---sn-p5qlsn7d.googlevideo.com/videoplayback?expire=1705697935&ei=m-CqZfvYI8r9-LYP9v696AE&ip=0.0.0.0&id=19aa0a0000000001&itag=375&source=aerial_view&requiressl=yes&xpc=Eghoy-b0JXoBAQ==&mh=Fs&mm=31&mn=sn-p5qlsn7d&ms=au&mv=D&mvi=2&pl=0&susc=av&acao=yes&mime=video/mp4&vprv=1&gir=yes&clen=11845552&dur=40.016&lmt=1685085014729426&mt=1705696921&txp=0011224&sparams=expire,ei,ip,id,itag,source,requiressl,xpc,susc,acao,mime,vprv,gir,clen,dur,lmt&sig=AJfQdSswRQIgR3QvRUqMv4KXEDKWlL_m1JzFk_ze9kJe2a9qbpbwpeoCIQCDREz651aTiFZCrKtdtRLlgNGRuJyTtM51qrSU9gCUlQ==&lsparams=mh,mm,mn,ms,mv,mvi,pl&lsig=AAO5W4owRgIhAPpKRnGye1ltOKMitAZushN2PoEJv40wb9y56t6I1DaJAiEAvkVyzp_qSG8N2jIX_Rcm32b4bfXU0Qwas5OXjbe-U8k='},\n",
       "  'MP4_LOW': {'landscapeUri': 'https://rr1---sn-p5qddn7k.googlevideo.com/videoplayback?expire=1705697935&ei=m-CqZeXsI9vip84PsKKLWA&ip=0.0.0.0&id=6d5a0a0000000001&itag=134&source=aerial_view&requiressl=yes&xpc=Eghoy-b0JXoBAQ==&mh=kQ&mm=31&mn=sn-p5qddn7k&ms=au&mv=D&mvi=1&pl=0&susc=av&acao=yes&mime=video/mp4&vprv=1&gir=yes&clen=3151615&dur=39.999&lmt=1685085384807301&mt=1705696973&txp=0011224&sparams=expire,ei,ip,id,itag,source,requiressl,xpc,susc,acao,mime,vprv,gir,clen,dur,lmt&sig=AJfQdSswRAIgOU6ScX4np_Hz3UTPc9lb3SG5uNVZB2_G817MWK2P1uICIHkpKJ1MP4keeEvpUKNmQVp_sOXgldEnyOXbNov5-Y4I&lsparams=mh,mm,mn,ms,mv,mvi,pl&lsig=AAO5W4owRgIhAK8TF8X25DkiNr8oGdbr37TxldhVScHSTG_gIz1SPHz0AiEAyLHmjObuyHl0yt2N6_6z_EkMCsSyzJ1rev9TsTBnyd4=',\n",
       "   'portraitUri': 'https://rr2---sn-p5qlsn7d.googlevideo.com/videoplayback?expire=1705697935&ei=m-CqZfvYI8r9-LYP9v696AE&ip=0.0.0.0&id=19aa0a0000000001&itag=134&source=aerial_view&requiressl=yes&xpc=Eghoy-b0JXoBAQ==&mh=Fs&mm=31&mn=sn-p5qlsn7d&ms=au&mv=D&mvi=2&pl=0&susc=av&acao=yes&mime=video/mp4&vprv=1&gir=yes&clen=1002668&dur=39.999&lmt=1685084998921687&mt=1705696921&txp=0011224&sparams=expire,ei,ip,id,itag,source,requiressl,xpc,susc,acao,mime,vprv,gir,clen,dur,lmt&sig=AJfQdSswRQIgb-MaJ3dGrduHfKCI1s0h4OdCZTmXYe2UAnNZU2Xa2TkCIQD0bvrCo1w6pFaQDAO7422RPUWdrbWIjy8Pwa9_1z6PUw==&lsparams=mh,mm,mn,ms,mv,mvi,pl&lsig=AAO5W4owRAIgB3WTjz3QWwUOKRRMAra7xXlrAdMn4VhOaZeU_e-OirACIBgqeY6AMvTevScjovUAdPSwrpzmA_gfZcY3iOGf8l3V'},\n",
       "  'MP4_MEDIUM': {'landscapeUri': 'https://rr1---sn-p5qddn7k.googlevideo.com/videoplayback?expire=1705697935&ei=m-CqZeXsI9vip84PsKKLWA&ip=0.0.0.0&id=6d5a0a0000000001&itag=374&source=aerial_view&requiressl=yes&xpc=Eghoy-b0JXoBAQ==&mh=kQ&mm=31&mn=sn-p5qddn7k&ms=au&mv=D&mvi=1&pl=0&susc=av&acao=yes&mime=video/mp4&vprv=1&gir=yes&clen=25878032&dur=40.016&lmt=1685085408135486&mt=1705696973&txp=0011224&sparams=expire,ei,ip,id,itag,source,requiressl,xpc,susc,acao,mime,vprv,gir,clen,dur,lmt&sig=AJfQdSswRgIhAJ46k2sGm-8fozKQQ2jqFomww-WCtcJZhIRMwvprFeXoAiEA-L5koOv2-mNKcy0U4yzl8wUR4nO7yKE8A2eItqqfnqY=&lsparams=mh,mm,mn,ms,mv,mvi,pl&lsig=AAO5W4owRAIgVfx3uM0lJLctZs0BMer0Ku9WadOEYTg5iHPPvVO_gXkCIDM_4V-a00T7NRTLrMbHdvsevY2FH8qT6WAsp-SKEMyX',\n",
       "   'portraitUri': 'https://rr2---sn-p5qlsn7d.googlevideo.com/videoplayback?expire=1705697935&ei=m-CqZfvYI8r9-LYP9v696AE&ip=0.0.0.0&id=19aa0a0000000001&itag=374&source=aerial_view&requiressl=yes&xpc=Eghoy-b0JXoBAQ==&mh=Fs&mm=31&mn=sn-p5qlsn7d&ms=au&mv=D&mvi=2&pl=0&susc=av&acao=yes&mime=video/mp4&vprv=1&gir=yes&clen=8232025&dur=40.016&lmt=1685084996655681&mt=1705696921&txp=0011224&sparams=expire,ei,ip,id,itag,source,requiressl,xpc,susc,acao,mime,vprv,gir,clen,dur,lmt&sig=AJfQdSswRQIhAMJM-sguyZxAQDb8vs-MQonrpluqWsDM7OT4DP6Xe2HNAiAzs9Elm_3envlYuyC_2W_1XO1dwINd9GqCsst_GeUxIQ==&lsparams=mh,mm,mn,ms,mv,mvi,pl&lsig=AAO5W4owRQIhAKdqHYyuqN9kj9FM983tKLlyX3uBkE79aRAGAAGbPVP1AiBcgZpSUFV-fqDKfflsT8Ch-_eb_0bU1f6fFFrjdheM1Q=='},\n",
       "  'DASH': {'landscapeUri': 'https://manifest.googlevideo.com/api/manifest/dash/expire/1705697935/ei/m-CqZeXsI9vip84PsKKLWA/ip/0.0.0.0/id/6d5a0a0000000001/source/aerial_view/requiressl/yes/xpc/Eghoy-b0JXoBAQ%3D%3D/susc/av/acao/yes/playback_host/rr1---sn-p5qddn7k.googlevideo.com/mh/kQ/mm/31/mn/sn-p5qddn7k/ms/au/mv/D/mvi/1/pl/0/hfr/all/vprv/1/pacing/0/mt/1705696973/itag/0/sparams/expire,ei,ip,id,source,requiressl,xpc,susc,acao,hfr,vprv,itag/sig/AJfQdSswRQIgG53z1WXid74uEljv3nvyT4XxoymCEcD3NDkHBJpZBKgCIQCOEJ7Hi7vILfTCERxrumI8kGyBYUXRQDBjUrNRfGIV2A%3D%3D/lsparams/playback_host,mh,mm,mn,ms,mv,mvi,pl/lsig/AAO5W4owRgIhANK3_AnlC9f876juAZeeB0JgMQ0B_Uz2xqf6dyXG5i33AiEA0TG1BRr8vScxNMB1Dqt9Uy6gcfPxm7wuvDQofMdN0LY%3D',\n",
       "   'portraitUri': 'https://manifest.googlevideo.com/api/manifest/dash/expire/1705697935/ei/m-CqZfvYI8r9-LYP9v696AE/ip/0.0.0.0/id/19aa0a0000000001/source/aerial_view/requiressl/yes/xpc/Eghoy-b0JXoBAQ%3D%3D/susc/av/acao/yes/playback_host/rr2---sn-p5qlsn7d.googlevideo.com/mh/Fs/mm/31/mn/sn-p5qlsn7d/ms/au/mv/D/mvi/2/pl/0/hfr/all/vprv/1/pacing/0/mt/1705696921/itag/0/sparams/expire,ei,ip,id,source,requiressl,xpc,susc,acao,hfr,vprv,itag/sig/AJfQdSswRAIgdA8ROQIBFFjA0iiCr75xgnr5v38cK-rq5dqsfGjjQXsCIE-mJu25SHnUYX1uKx1BE6Duw51HxeN_mAcnCcBqU4AM/lsparams/playback_host,mh,mm,mn,ms,mv,mvi,pl/lsig/AAO5W4owRQIgEBOh-FckJoBzcwF4RWL8Od1rCBysIaQPsESm_haELfMCIQC75GjrKBvTvyqaBSzgclNziP3s1l1mW6gcKEy2AX3k2Q%3D%3D'},\n",
       "  'HLS': {'landscapeUri': 'https://manifest.googlevideo.com/api/manifest/hls_variant/expire/1705697935/ei/m-CqZeXsI9vip84PsKKLWA/ip/0.0.0.0/id/6d5a0a0000000001/source/aerial_view/requiressl/yes/xpc/Eghoy-b0JXoBAQ%3D%3D/susc/av/acao/yes/playback_host/rr1---sn-p5qddn7k.googlevideo.com/mh/kQ/mm/31/mn/sn-p5qddn7k/ms/au/mv/D/mvi/1/pl/0/hfr/all/vprv/1/pacing/0/mt/1705696973/itag/0/playlist_type/LIVE/sparams/expire,ei,ip,id,source,requiressl,xpc,susc,acao,hfr,vprv,itag,playlist_type/sig/AJfQdSswRQIhAM4hFkc_2s0NfJJOIzeZinKcZwFFj4vxgBW69K11D9BcAiBabafD8qNvYyCkemYfRyzY_qsISPI0w4m-u_swH5oDJA%3D%3D/lsparams/playback_host,mh,mm,mn,ms,mv,mvi,pl/lsig/AAO5W4owRQIgWZYj7YsYlAXC93S45__Zomp7Lb36pLH7KskBwEJ4p4ICIQDVlG1KrqU1-FFKiip6sQU7Ht9zeVUPuN92ZNY3XmqgwQ%3D%3D/file/index.m3u8',\n",
       "   'portraitUri': 'https://manifest.googlevideo.com/api/manifest/hls_variant/expire/1705697935/ei/m-CqZfvYI8r9-LYP9v696AE/ip/0.0.0.0/id/19aa0a0000000001/source/aerial_view/requiressl/yes/xpc/Eghoy-b0JXoBAQ%3D%3D/susc/av/acao/yes/playback_host/rr2---sn-p5qlsn7d.googlevideo.com/mh/Fs/mm/31/mn/sn-p5qlsn7d/ms/au/mv/D/mvi/2/pl/0/hfr/all/vprv/1/pacing/0/mt/1705696921/itag/0/playlist_type/LIVE/sparams/expire,ei,ip,id,source,requiressl,xpc,susc,acao,hfr,vprv,itag,playlist_type/sig/AJfQdSswRAIgKkvYw5ExLyET-SCtUJYOVpb7ShAr2ccbdGoCdVJXsogCIA7NkQunQzeXl136lF0dRvLxvA-nZWFNA0ufxLrnHb--/lsparams/playback_host,mh,mm,mn,ms,mv,mvi,pl/lsig/AAO5W4owRQIhAIhZH6mMYaY9JdnD3V_gC2UDJ9uH0hkcX_HMQN9KkwcfAiB7PAg_-dniiO1GpOtaJxfHW6gbUjEbjNiDo16MKUEVfA%3D%3D/file/index.m3u8'}},\n",
       " 'state': 'ACTIVE',\n",
       " 'metadata': {'videoId': 'b6luvoth1uDtpcsoHW29YQ',\n",
       "  'captureDate': {'year': 2022, 'month': 6, 'day': 19},\n",
       "  'duration': '40s'}}"
      ]
     },
     "execution_count": 5,
     "metadata": {},
     "output_type": "execute_result"
    }
   ],
   "source": [
    "# test three different locations\n",
    "# 1. 200 Park Ave\n",
    "url_request(\"200 Park Ave, New York, NY 10166\")"
   ]
  },
  {
   "cell_type": "code",
   "execution_count": 6,
   "metadata": {},
   "outputs": [
    {
     "name": "stdout",
     "output_type": "stream",
     "text": [
      "Video is currently being rendering\n"
     ]
    }
   ],
   "source": [
    "# 2. 200 West St\n",
    "url_request(\"200 West St, New York, NY 10282\")"
   ]
  },
  {
   "cell_type": "code",
   "execution_count": 7,
   "metadata": {},
   "outputs": [
    {
     "name": "stdout",
     "output_type": "stream",
     "text": [
      "No rendering under the address. Please request a new video\n"
     ]
    }
   ],
   "source": [
    "# 3. 345 Park Ave\n",
    "url_request(\"345 Park Ave, New York, NY 10154\")"
   ]
  },
  {
   "cell_type": "markdown",
   "metadata": {},
   "source": [
    "##### Next Step\n",
    "This function will include the feature to request new video if there is no rendering in Google Aerial View."
   ]
  }
 ],
 "metadata": {
  "kernelspec": {
   "display_name": "Python 3",
   "language": "python",
   "name": "python3"
  },
  "language_info": {
   "codemirror_mode": {
    "name": "ipython",
    "version": 3
   },
   "file_extension": ".py",
   "mimetype": "text/x-python",
   "name": "python",
   "nbconvert_exporter": "python",
   "pygments_lexer": "ipython3",
   "version": "3.9.16"
  }
 },
 "nbformat": 4,
 "nbformat_minor": 2
}
