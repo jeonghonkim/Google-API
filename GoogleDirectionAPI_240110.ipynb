{
 "cells": [
  {
   "cell_type": "markdown",
   "metadata": {},
   "source": [
    "#### Google Direction API for Python in ArcPro"
   ]
  },
  {
   "cell_type": "code",
   "execution_count": null,
   "metadata": {},
   "outputs": [],
   "source": [
    "# Install packages\n",
    "#!pip install pytz"
   ]
  },
  {
   "cell_type": "code",
   "execution_count": null,
   "metadata": {},
   "outputs": [],
   "source": [
    "# import modules\n",
    "import arcpy, os, sys\n",
    "from arcpy import env\n",
    "import pandas as pd\n",
    "import numpy as np\n",
    "import requests\n",
    "import json\n",
    "import time\n",
    "import datetime\n",
    "import pytz\n",
    "from pytz import timezone"
   ]
  },
  {
   "cell_type": "code",
   "execution_count": null,
   "metadata": {},
   "outputs": [],
   "source": [
    "# set workspace and workfolder\n",
    "workfolder = r\"C:\\WORKFOLDER\"\n",
    "workspace = r\"C:\\WORKSPACE.gdb\""
   ]
  },
  {
   "cell_type": "code",
   "execution_count": null,
   "metadata": {},
   "outputs": [],
   "source": [
    "# request google direction api\n",
    "# set time\n",
    "time_str = \"1/10/2024 7:15:00 AM\"\n",
    "eastern = timezone('US/Eastern')\n",
    "time_est = eastern.localize(datetime.datetime.strptime(time_str, \"%m/%d/%Y %I:%M:%S %p\"))\n",
    "time_tup = round(time.mktime(time_est.timetuple()))\n",
    "\n",
    "# set origination\n",
    "url_o = \"https://maps.googleapis.com/maps/api/directions/json?origin=\"\n",
    "o_x = 40.875761235775876\n",
    "o_y = -74.01643973489982\n",
    "o_coord = str(o_x) + \",\" + str(o_y)\n",
    "# set destination\n",
    "url_d = \"&destination=\"\n",
    "d_x = 40.7535042462521\n",
    "d_y = -73.97674839077847\n",
    "d_coord = str(d_x) + \",\" + str(d_y)\n",
    "# set transit mode\n",
    "url_m = \"&mode=transit\" #driving\n",
    "url_md = \"&transit_mode=bus|subway|train\"\n",
    "# set preference\n",
    "url_t = \"&departure_time=\"+str(time_tup)\n",
    "url_r = \"&avoid=tolls|highways|ferries\"\n",
    "# set api key\n",
    "url_api = \"&key=YOURAPIKEY\"\n",
    "\n",
    "# combine url\n",
    "url_req = url_o + o_coord + url_d + d_coord + url_m + url_md + url_t + url_r + url_api\n",
    "print(url_req)\n",
    "\n",
    "# request api\n",
    "payload={}\n",
    "headers = {}\n",
    "response = requests.request(\"GET\", url_req, headers=headers, data=payload)"
   ]
  },
  {
   "cell_type": "code",
   "execution_count": null,
   "metadata": {},
   "outputs": [],
   "source": [
    "# Create empty dataframe with transit mode\n",
    "tm = ['Total', 'Walking', 'Transit', 'Bicycling', 'Driving']\n",
    "for x in tm:\n",
    "     exec('{} = pd.DataFrame()'.format(x))\n",
    "\n",
    "# Create steps dataframe by different transit mode\n",
    "routeLen = len(response.json()['routes'][0]['legs'][0]['steps'])\n",
    "for i in range(routeLen):\n",
    "    travel_mode = response.json()['routes'][0]['legs'][0]['steps'][i]['travel_mode']\n",
    "    if travel_mode == 'WALKING':\n",
    "        Walking = pd.json_normalize(response.json()['routes'][0]['legs'][0]['steps'][i]['steps'])\n",
    "        Total = pd.concat([Total, Walking])\n",
    "    elif travel_mode == 'TRANSIT':\n",
    "        Transit = pd.json_normalize(response.json()['routes'][0]['legs'][0]['steps'][i])\n",
    "        Total = pd.concat([Total, Transit])\n",
    "    elif travel_mode == 'BICYCLING':\n",
    "        Bicycling = pd.json_normalize(response.json()['routes'][0]['legs'][0]['steps'][i])\n",
    "        Total = pd.concat([Total, Bicycling])\n",
    "    elif travel_mode == 'DRIVING':\n",
    "        Driving = pd.json_normalize(response.json()['routes'][0]['legs'][0]['steps'][i])\n",
    "        Total = pd.concat([Total, Driving])\n",
    "    else:\n",
    "        print(\"There are different transit modes\")\n",
    "        pass\n"
   ]
  },
  {
   "cell_type": "code",
   "execution_count": null,
   "metadata": {},
   "outputs": [],
   "source": [
    "# Export the dataframe to csv\n",
    "Total.to_csv(workfolder+'/GoogleDirection.csv')\n",
    "Total_csv = os.path.join(workfolder, 'GoogleDirection.csv')\n",
    "print(Total_csv)"
   ]
  },
  {
   "cell_type": "code",
   "execution_count": null,
   "metadata": {},
   "outputs": [],
   "source": [
    "# Convert it to feature class\n",
    "arcpy.management.XYToLine(\n",
    "    Total_csv, os.path.join(workspace, 'Line_GoogleDirectionAPI'),\n",
    "    'start_location.lng', 'start_location.lat',\n",
    "    'end_location.lng', 'end_location.lat')"
   ]
  }
 ],
 "metadata": {
  "kernelspec": {
   "display_name": "Python 3",
   "language": "python",
   "name": "python3"
  },
  "language_info": {
   "codemirror_mode": {
    "name": "ipython",
    "version": 3
   },
   "file_extension": ".py",
   "mimetype": "text/x-python",
   "name": "python",
   "nbconvert_exporter": "python",
   "pygments_lexer": "ipython3",
   "version": "3.9.16"
  }
 },
 "nbformat": 4,
 "nbformat_minor": 2
}
