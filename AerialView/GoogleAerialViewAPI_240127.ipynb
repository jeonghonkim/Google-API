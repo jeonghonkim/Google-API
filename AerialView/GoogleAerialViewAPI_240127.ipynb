{
 "cells": [
  {
   "cell_type": "markdown",
   "metadata": {},
   "source": [
    "#### 1. Create a function to retrieve a rendered video using Google Aerial API"
   ]
  },
  {
   "cell_type": "code",
   "execution_count": 10,
   "metadata": {},
   "outputs": [],
   "source": [
    "# import libraries\n",
    "import arcpy, requests, os, json\n",
    "import pandas as pd"
   ]
  },
  {
   "cell_type": "code",
   "execution_count": 11,
   "metadata": {},
   "outputs": [],
   "source": [
    "# use your google api key\n",
    "MY_GDB = 'MY_PATH'\n",
    "MY_API_KEY = \"MY_API_KEY\"\n",
    "\n",
    "# set environment\n",
    "arcpy.env.workspace = MY_GDB\n",
    "arcpy.env.overwriteOutput = True "
   ]
  },
  {
   "cell_type": "code",
   "execution_count": 12,
   "metadata": {},
   "outputs": [],
   "source": [
    "# Define function for aerial_render\n",
    "def aerial_render(address):\n",
    "    render_url = 'https://aerialview.googleapis.com/v1/videos:renderVideo'\n",
    "    render_headers = {'Content-Type': 'application/json',}\n",
    "    render_params = {'key': str(MY_API_KEY),}\n",
    "    render_jsonData = {'address': str(address),}\n",
    "    MY_REQUEST = requests.post(render_url,\n",
    "                                params=render_params,\n",
    "                                headers=render_headers,\n",
    "                                json=render_jsonData).json()\n",
    "    print(str(address),\"- Requested a new rednering. It will take about 1 hour.\")\n",
    "    return MY_REQUEST\n",
    "\n",
    "# Define a function for geocode\n",
    "def geocode(address):\n",
    "    # request Geocoding API\n",
    "    geocode_url = \"https://maps.googleapis.com/maps/api/geocode/json\"\n",
    "    geocode_params = {\n",
    "        'address': str(address),\n",
    "        'key': str(MY_API_KEY),}    \n",
    "    MY_JSON = requests.get(geocode_url, params=geocode_params).json()\n",
    "    MY_STATUS = MY_JSON['status']\n",
    "    if MY_STATUS == 'OK':\n",
    "        MY_LOCATION = pd.json_normalize(MY_JSON['results'][0]['geometry']['location'])        \n",
    "        MY_LOCATION.to_csv(\"my_location.csv\")\n",
    "        MY_CWD = os.getcwd()\n",
    "        MY_CSV = os.path.join(MY_CWD, \"my_location.csv\")\n",
    "        MY_POINT = os.path.join(MY_GDB, \"my_point\")\n",
    "        arcpy.management.XYTableToPoint(MY_CSV, MY_POINT, 'lng', 'lat', '', arcpy.SpatialReference('WGS 1984'))\n",
    "        return MY_POINT\n",
    "    else:\n",
    "        print(\"There are some issues. Please check the following status.\")\n",
    "        return print(MY_STATUS)\n",
    "\n",
    "# Define function for aerial_lookup\n",
    "def aerial_lookup(address):\n",
    "    # Request aerial view\n",
    "    lookup_url = 'https://aerialview.googleapis.com/v1/videos:lookupVideo'\n",
    "    lookup_params = {'key': str(MY_API_KEY),\n",
    "              'address': str(address),}\n",
    "    MY_AERIALVIEW = requests.get(lookup_url, params=lookup_params).json()\n",
    "    # Handle the output\n",
    "    MY_DF = pd.json_normalize(MY_AERIALVIEW)\n",
    "    MY_STATUS = MY_DF.iloc[0][0]\n",
    "    if MY_STATUS == 'ACTIVE':\n",
    "        MY_VIDEO = MY_DF.iloc[0][3] # High quality MP4 file - landscape\n",
    "        return MY_VIDEO, geocode(address)\n",
    "    elif MY_STATUS == 'PROCESSING':\n",
    "        print(\"Video is currently being rendering. Please check it later\")\n",
    "        pass\n",
    "    elif MY_STATUS == 404:\n",
    "        return aerial_render(address)\n",
    "    else:\n",
    "        print(\"There is an issue. Please check the below!\")\n",
    "        return print(MY_AERIALVIEW)"
   ]
  },
  {
   "cell_type": "markdown",
   "metadata": {},
   "source": [
    "#### 2. Examples"
   ]
  },
  {
   "cell_type": "code",
   "execution_count": null,
   "metadata": {},
   "outputs": [],
   "source": [
    "# 300 N La Salle Dr, Chicago, IL 60654\n",
    "MY_ADDRESS = \"300 N La Salle Dr, Chicago, IL 60654\"\n",
    "aerial_lookup(MY_ADDRESS)"
   ]
  },
  {
   "cell_type": "markdown",
   "metadata": {},
   "source": [
    "<img src=\"Capture_GAV_300NLaSalleDr.JPG\" style=\"width:1000px;height:500px\">"
   ]
  },
  {
   "cell_type": "markdown",
   "metadata": {},
   "source": [
    "<img src=\"Capture_GAV_300NLaSalleDr_ArcPro.JPG\" style=\"width:1000px;height:500px\">"
   ]
  }
 ],
 "metadata": {
  "kernelspec": {
   "display_name": "Python 3",
   "language": "python",
   "name": "python3"
  },
  "language_info": {
   "codemirror_mode": {
    "name": "ipython",
    "version": 3
   },
   "file_extension": ".py",
   "mimetype": "text/x-python",
   "name": "python",
   "nbconvert_exporter": "python",
   "pygments_lexer": "ipython3",
   "version": "3.9.16"
  }
 },
 "nbformat": 4,
 "nbformat_minor": 2
}
